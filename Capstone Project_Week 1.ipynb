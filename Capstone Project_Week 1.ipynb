{
    "cells": [
        {
            "cell_type": "markdown",
            "metadata": {
                "collapsed": true
            },
            "source": "## 1. Introduction\n\n### 1.1 Problem Definition\n\nI would like to open an ice cream shop in New York City. I need to choose the best location for my new venture. I believe that an ice cream shop will be better located if it is close to a large number of restaurants and bars in addition to tourist attractions such as museums and parks. In oder to choose the best location in Manhattan I will use the **explore** function from the Foursquare API to get the most common venue categories in each neighborhood, and then use this feature to group the neighborhoods into clusters. I will also use scatter plots to help me with my decision."
        },
        {
            "cell_type": "markdown",
            "metadata": {},
            "source": "### 1.2 Interest\nThis methodology can be applicable to entrepreneurs who need to analyze geographic data to determine the location of a new enterprise."
        },
        {
            "cell_type": "markdown",
            "metadata": {},
            "source": "## 2. Data Acquisition\n\n### 2.1 Data Source\n\nIn order to analyse the neighborhoods and explore them, I will essentially need a dataset that contains all the boroughs and the neighborhoods in Manhattan as well as the the latitude and logitude coordinates of each neighborhood. The dataset exists for free on the web: https://geo.nyu.edu/catalog/nyu_2451_34572.\n\nIn addition to the location of neighborhoods, information about commerce and places of interest is needed. For that, the Foursquare database will be used through the Foursquare API developer account."
        },
        {
            "cell_type": "code",
            "execution_count": null,
            "metadata": {},
            "outputs": [],
            "source": ""
        }
    ],
    "metadata": {
        "kernelspec": {
            "display_name": "Python 3.6",
            "language": "python",
            "name": "python3"
        },
        "language_info": {
            "codemirror_mode": {
                "name": "ipython",
                "version": 3
            },
            "file_extension": ".py",
            "mimetype": "text/x-python",
            "name": "python",
            "nbconvert_exporter": "python",
            "pygments_lexer": "ipython3",
            "version": "3.6.9"
        }
    },
    "nbformat": 4,
    "nbformat_minor": 1
}