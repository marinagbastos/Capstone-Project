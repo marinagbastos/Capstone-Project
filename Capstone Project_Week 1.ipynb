{
    "cells": [
        {
            "cell_type": "markdown",
            "metadata": {
                "collapsed": true
            },
            "source": "## 1. Introduction\n\n### 1.1 Problem Definition\n\nI would like to open an ice cream shop in New York City. I need to choose the best location for my new venture. I believe that an ice cream shop will be better located if it is close to a large number of restaurants and bars in addition to tourist attractions such as museums and parks. In oder to choose the best location in Manhattan I will use the **explore** function from the Foursquare API to get the most common venue categories in each neighborhood, and then use this feature to group the neighborhoods into clusters. I will also use scatter plots to help me with my decision."
        },
        {
            "cell_type": "code",
            "execution_count": null,
            "metadata": {},
            "outputs": [],
            "source": ""
        }
    ],
    "metadata": {
        "kernelspec": {
            "display_name": "Python 3.6",
            "language": "python",
            "name": "python3"
        },
        "language_info": {
            "codemirror_mode": {
                "name": "ipython",
                "version": 3
            },
            "file_extension": ".py",
            "mimetype": "text/x-python",
            "name": "python",
            "nbconvert_exporter": "python",
            "pygments_lexer": "ipython3",
            "version": "3.6.9"
        }
    },
    "nbformat": 4,
    "nbformat_minor": 1
}